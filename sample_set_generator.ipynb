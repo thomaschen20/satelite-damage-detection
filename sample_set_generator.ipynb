{
 "cells": [
  {
   "cell_type": "code",
   "execution_count": 52,
   "metadata": {},
   "outputs": [],
   "source": [
    "import glob\n",
    "import random\n",
    "import matplotlib.pyplot as plt\n",
    "import cv2\n",
    "import os\n",
    "from tqdm import tqdm"
   ]
  },
  {
   "cell_type": "code",
   "execution_count": 60,
   "metadata": {},
   "outputs": [
    {
     "name": "stdout",
     "output_type": "stream",
     "text": [
      "hurricane-matthew_00000296_post_disaster_building_00286.png\n",
      "hurricane-harvey_00000392_post_disaster_building_00038.png\n",
      "hurricane-harvey_00000406_post_disaster_building_00066.png\n",
      "mexico-earthquake_00000007_post_disaster_building_00229.png\n"
     ]
    }
   ],
   "source": [
    "t_destroyed_building_images = glob.glob(\"C:/Users/thoma/OneDrive/Damage Detection/trainandval/train/destroyed/*\")\n",
    "random.shuffle(t_destroyed_building_images)\n",
    "t_minor_damage_building_images = glob.glob(\"C:/Users/thoma/OneDrive/Damage Detection/trainandval/train/minor_damage/*\")\n",
    "random.shuffle(t_minor_damage_building_images)\n",
    "t_major_damage_building_images = glob.glob(\"C:/Users/thoma/OneDrive/Damage Detection/trainandval/train/major_damage/*\")\n",
    "random.shuffle(t_major_damage_building_images)\n",
    "t_no_damage_building_images = glob.glob(\"C:/Users/thoma/OneDrive/Damage Detection/trainandval/train/no_damage/*\")\n",
    "random.shuffle(t_no_damage_building_images)\n",
    "print(t_minor_damage_building_images[400][72:])\n",
    "print(t_major_damage_building_images[400][72:])\n",
    "print(t_destroyed_building_images[400][69:])\n",
    "print(t_no_damage_building_images[400][69:])"
   ]
  },
  {
   "cell_type": "code",
   "execution_count": 61,
   "metadata": {},
   "outputs": [
    {
     "name": "stderr",
     "output_type": "stream",
     "text": [
      "100%|████████████████████████████████████████████████████████████████████████████████| 400/400 [00:07<00:00, 56.44it/s]\n"
     ]
    }
   ],
   "source": [
    "for x in tqdm(range(400)):\n",
    "    nd_building = cv2.imread(t_no_damage_building_images[x])\n",
    "    d_building = cv2.imread(t_destroyed_building_images[x])\n",
    "    mad_building = cv2.imread(t_major_damage_building_images[x])\n",
    "    mid_building = cv2.imread(t_minor_damage_building_images[x])\n",
    "    path = \"C:/Users/thoma/OneDrive/Damage Detection/sampletrainandvalsets/train/destroyed\"\n",
    "    im_filename = t_destroyed_building_images[x]\n",
    "    cv2.imwrite(os.path.join(path, im_filename[69:]), d_building)\n",
    "    \n",
    "    path = \"C:/Users/thoma/OneDrive/Damage Detection/sampletrainandvalsets/train/no_damage\"\n",
    "    im_filename = t_no_damage_building_images[x]\n",
    "    cv2.imwrite(os.path.join(path, im_filename[69:]), nd_building)\n",
    "    \n",
    "    path = \"C:/Users/thoma/OneDrive/Damage Detection/sampletrainandvalsets/train/major_damage\"\n",
    "    im_filename = t_major_damage_building_images[x]\n",
    "    cv2.imwrite(os.path.join(path, im_filename[72:]), mad_building)\n",
    "    \n",
    "    path = \"C:/Users/thoma/OneDrive/Damage Detection/sampletrainandvalsets/train/minor_damage\"\n",
    "    im_filename = t_minor_damage_building_images[x]\n",
    "    cv2.imwrite(os.path.join(path, im_filename[72:]), mid_building)"
   ]
  },
  {
   "cell_type": "code",
   "execution_count": 63,
   "metadata": {},
   "outputs": [
    {
     "name": "stdout",
     "output_type": "stream",
     "text": [
      "hurricane-michael_00000467_post_disaster_building_00012.png\n",
      "hurricane-harvey_00000099_post_disaster_building_00178.png\n",
      "palu-tsunami_00000168_post_disaster_building_00066.png\n",
      "hurricane-harvey_00000001_post_disaster_building_00099.png\n"
     ]
    }
   ],
   "source": [
    "v_destroyed_building_images = glob.glob(\"C:/Users/thoma/OneDrive/Damage Detection/trainandval/val/destroyed/*\")\n",
    "random.shuffle(v_destroyed_building_images)\n",
    "v_minor_damage_building_images = glob.glob(\"C:/Users/thoma/OneDrive/Damage Detection/trainandval/val/minor_damage/*\")\n",
    "random.shuffle(v_minor_damage_building_images)\n",
    "v_major_damage_building_images = glob.glob(\"C:/Users/thoma/OneDrive/Damage Detection/trainandval/val/major_damage/*\")\n",
    "random.shuffle(v_major_damage_building_images)\n",
    "v_no_damage_building_images = glob.glob(\"C:/Users/thoma/OneDrive/Damage Detection/trainandval/val/no_damage/*\")\n",
    "random.shuffle(v_no_damage_building_images)\n",
    "print(v_minor_damage_building_images[400][70:])\n",
    "print(v_major_damage_building_images[400][70:])\n",
    "print(v_destroyed_building_images[400][67:])\n",
    "print(v_no_damage_building_images[400][67:])"
   ]
  },
  {
   "cell_type": "code",
   "execution_count": 66,
   "metadata": {},
   "outputs": [
    {
     "name": "stderr",
     "output_type": "stream",
     "text": [
      "100%|████████████████████████████████████████████████████████████████████████████████| 100/100 [00:01<00:00, 66.10it/s]\n"
     ]
    }
   ],
   "source": [
    "for x in tqdm(range(100)):\n",
    "    nd_building = cv2.imread(v_no_damage_building_images[x])\n",
    "    d_building = cv2.imread(v_destroyed_building_images[x])\n",
    "    mad_building = cv2.imread(v_major_damage_building_images[x])\n",
    "    mid_building = cv2.imread(v_minor_damage_building_images[x])\n",
    "    path = \"C:/Users/thoma/OneDrive/Damage Detection/sampletrainandvalsets/val/destroyed\"\n",
    "    im_filename = v_destroyed_building_images[x]\n",
    "    cv2.imwrite(os.path.join(path, im_filename[67:]), d_building)\n",
    "    \n",
    "    path = \"C:/Users/thoma/OneDrive/Damage Detection/sampletrainandvalsets/val/no_damage\"\n",
    "    im_filename = v_no_damage_building_images[x]\n",
    "    cv2.imwrite(os.path.join(path, im_filename[67:]), nd_building)\n",
    "    \n",
    "    path = \"C:/Users/thoma/OneDrive/Damage Detection/sampletrainandvalsets/val/major_damage\"\n",
    "    im_filename = v_major_damage_building_images[x]\n",
    "    cv2.imwrite(os.path.join(path, im_filename[70:]), mad_building)\n",
    "    \n",
    "    path = \"C:/Users/thoma/OneDrive/Damage Detection/sampletrainandvalsets/val/minor_damage\"\n",
    "    im_filename = v_minor_damage_building_images[x]\n",
    "    cv2.imwrite(os.path.join(path, im_filename[70:]), mid_building)"
   ]
  }
 ],
 "metadata": {
  "kernelspec": {
   "display_name": "Python 3",
   "language": "python",
   "name": "python3"
  },
  "language_info": {
   "codemirror_mode": {
    "name": "ipython",
    "version": 3
   },
   "file_extension": ".py",
   "mimetype": "text/x-python",
   "name": "python",
   "nbconvert_exporter": "python",
   "pygments_lexer": "ipython3",
   "version": "3.7.3"
  }
 },
 "nbformat": 4,
 "nbformat_minor": 2
}
